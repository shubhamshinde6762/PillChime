{
 "cells": [
  {
   "cell_type": "code",
   "execution_count": 1,
   "metadata": {},
   "outputs": [],
   "source": [
    "from langchain_openai import ChatOpenAI\n",
    "from langchain_core.output_parsers import StrOutputParser\n",
    "from langchain_core.messages import HumanMessage"
   ]
  },
  {
   "cell_type": "code",
   "execution_count": 2,
   "metadata": {},
   "outputs": [],
   "source": [
    "import os\n",
    "from dotenv import load_dotenv\n",
    "load_dotenv()\n",
    "\n",
    "os.environ[\"OPENAI_API_KEY\"] = os.getenv(\"OPENAI_API_KEY\")\n",
    "# os.environ[\"LANGCHAIN_API_KEY\"] = os.getenv(\"LANGCHAIN_API_KEY\")\n",
    "# os.environ[\"LANGCHAIN_TRACING_V2\"] = \"true\"\n",
    "# os.environ[\"LANGCHAIN_ENDPOINT\"] = os.getenv(\"LANGCHAIN_ENDPOINT\")\n",
    "# os.environ[\"LANGCHAIN_PROJECT\"] = os.getenv(\"LANGCHAIN_PROJECT\")\n"
   ]
  },
  {
   "cell_type": "code",
   "execution_count": 3,
   "metadata": {},
   "outputs": [],
   "source": [
    "import cv2\n",
    "\n",
    "def process_image(path):\n",
    "\n",
    "    img = cv2.imread(path)\n",
    "\n",
    "    height, width = img.shape[:2]\n",
    "\n",
    "    min_dimension = 400\n",
    "\n",
    "    scale_factor = max(min_dimension / width, min_dimension / height)\n",
    "\n",
    "    new_width = int(width * scale_factor)\n",
    "    new_height = int(height * scale_factor)\n",
    "\n",
    "    resized_image = cv2.resize(img, (new_width, new_height))\n",
    "\n",
    "    cv2.imwrite(f'{path}_processed.jpg', resized_image)\n"
   ]
  },
  {
   "cell_type": "code",
   "execution_count": 6,
   "metadata": {},
   "outputs": [
    {
     "name": "stdout",
     "output_type": "stream",
     "text": [
      "```json\n",
      "{\n",
      "  \"patient\": {\n",
      "    \"name\": \"Shubham Shinde\",\n",
      "    \"age\": 20,\n",
      "    \"gender\": \"male\",\n",
      "    \"prescribedBy\": \"\"\n",
      "  },\n",
      "  \"prescription\": [\n",
      "    {\n",
      "      \"medicine\": \"Paracetamol\",\n",
      "      \"dosage\": \"1 tablet\",\n",
      "      \"timing\": [\"before lunch\"]\n",
      "    },\n",
      "    {\n",
      "      \"medicine\": \"Isotretinoin\",\n",
      "      \"dosage\": \"1 tablet\",\n",
      "      \"timing\": [\"after dinner\"]\n",
      "    }\n",
      "  ]\n",
      "}\n",
      "```\n"
     ]
    }
   ],
   "source": [
    "import base64\n",
    "from pathlib import Path\n",
    "\n",
    "llm = ChatOpenAI(model=\"gpt-4o-mini\")\n",
    "output_parser = StrOutputParser()\n",
    "image_path = \"my_presc4.jpeg\"\n",
    "\n",
    "process_image(Path.cwd()/f\"{image_path}\")\n",
    "\n",
    "image_file = Path.cwd()/f\"{image_path}_processed.jpg\"\n",
    "\n",
    "with image_file.open(\"rb\") as file:\n",
    "    base64_image_data = base64.b64encode(file.read()).decode('utf-8')\n",
    "\n",
    "\n",
    "message = HumanMessage(\n",
    "    content=[\n",
    "        {\"type\": \"text\", \"text\": \"\"\"The image that you will receive now is an image of a medical prescription. \n",
    "This is an  example of a JSON format that we are using to store prescription data.\n",
    "\"patient\": {\n",
    "           \"name\": \"John Doe\",\n",
    "           \"age\": 45,\n",
    "           \"gender\": \"male\",\n",
    "           \"prescribedBy\": \"Dr. Sarah Smith\"\n",
    "         },\n",
    "         \"prescription\": [\n",
    "           {\n",
    "             \"medicine\": \"Paracetamol\",\n",
    "             \"dosage\": \"500mg\",\n",
    "             \"timing\": [\"after lunch\"]\n",
    "           },\n",
    "           {\n",
    "             \"medicine\": \"Amoxicillin\",\n",
    "             \"dosage\": \"250mg\",\n",
    "             \"timing\": [\"before lunch\", \"after lunch\"]\n",
    "           },\n",
    "           {\n",
    "             \"medicine\": \"Vitamin D3\",\n",
    "             \"dosage\": \"1000IU\",\n",
    "             \"colour\": \"yellow\",\n",
    "             \"timing\": [\"with breakfast\"]\n",
    "           },\n",
    "           {\n",
    "             \"medicine\": \"Metformin\",\n",
    "             \"dosage\": \"850mg\",\n",
    "             \"timing\": [\"after breakfast\", \"after dinner\"]\n",
    "           }\n",
    "         ]\n",
    "        Please fill these values from the image I give you, and return only the JSON string. dont write anything else. \n",
    "        \"\"\"},\n",
    "        {\n",
    "            \"type\": \"image_url\",\n",
    "            \"image_url\": {\"url\": f\"data:image/jpeg;base64,{base64_image_data}\"},\n",
    "        },\n",
    "    ],\n",
    ")\n",
    "response = llm.invoke([message])\n",
    "print(response.content)\n",
    "\n"
   ]
  },
  {
   "cell_type": "code",
   "execution_count": null,
   "metadata": {},
   "outputs": [],
   "source": []
  }
 ],
 "metadata": {
  "kernelspec": {
   "display_name": "pytorch",
   "language": "python",
   "name": "python3"
  },
  "language_info": {
   "codemirror_mode": {
    "name": "ipython",
    "version": 3
   },
   "file_extension": ".py",
   "mimetype": "text/x-python",
   "name": "python",
   "nbconvert_exporter": "python",
   "pygments_lexer": "ipython3",
   "version": "3.9.19"
  }
 },
 "nbformat": 4,
 "nbformat_minor": 2
}
